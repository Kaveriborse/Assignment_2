{
 "cells": [
  {
   "cell_type": "markdown",
   "id": "bce52c14",
   "metadata": {},
   "source": [
    "# 1.What are the two values of the Boolean data type? How do you write them?"
   ]
  },
  {
   "cell_type": "markdown",
   "id": "91c74fdf",
   "metadata": {},
   "source": [
    "The Boolean data type represents two distinct values: True and False. These values are used to represent binary choices, such as the result of a logical comparison or a condition in programming.\n",
    "\n",
    "x = True\n",
    "\n",
    "y = False\n",
    "\n",
    "Here, x is assigned the value True and y is assigned the value False. Boolean values are fundamental in programming, as they are used to make decisions in conditions, loops, and logical operations."
   ]
  },
  {
   "cell_type": "markdown",
   "id": "ec06de9c",
   "metadata": {},
   "source": [
    "# 2. What are the three different types of Boolean operators?"
   ]
  },
  {
   "cell_type": "markdown",
   "id": "c1376a7d",
   "metadata": {},
   "source": [
    "Boolean operators are used to perform logical operations on Boolean values (True or False). There are three primary types of Boolean operators:\n",
    "\n",
    "AND Operator (Conjunction):\n",
    "\n",
    "Symbol: and\n",
    "\n",
    "Purpose: Returns True if both operands are True; otherwise, it returns False.\n",
    "\n",
    "Example: True and False evaluates to False.\n",
    "\n",
    "OR Operator (Disjunction):\n",
    "\n",
    "Symbol: or\n",
    "\n",
    "Purpose: Returns True if at least one of the operands is True; if both operands are False, it returns False.\n",
    "\n",
    "Example: True or False evaluates to True.\n",
    "\n",
    "NOT Operator (Negation):\n",
    "\n",
    "Symbol: not\n",
    "\n",
    "Purpose: Returns the opposite of the Boolean value. If the operand is True, it returns False; if the operand is False, it \n",
    "\n",
    "returns True.\n",
    "\n",
    "Example: not True evaluates to False.\n",
    "\n",
    "These Boolean operators are commonly used to create complex conditions, make decisions, and control the flow of programs based on logical evaluations. They are an essential part of programming and are used in various programming languages."
   ]
  },
  {
   "cell_type": "markdown",
   "id": "56ab2ec3",
   "metadata": {},
   "source": [
    "# 3. Make a list of each Boolean operator's truth tables (i.e. every possible combination of Boolean values for the operator and what it evaluate )."
   ]
  },
  {
   "cell_type": "markdown",
   "id": "3a7053ec",
   "metadata": {},
   "source": [
    "Certainly! Here are the truth tables for the three primary Boolean operators: AND, OR, and NOT.\n",
    "\n",
    "AND Operator Truth Table:\n",
    "\n",
    "Operand 1\tOperand 2\tResult\n",
    "\n",
    "False\tFalse\tFalse\n",
    "\n",
    "False\tTrue\tFalse\n",
    "\n",
    "True\tFalse\tFalse\n",
    "\n",
    "True\tTrue\tTrue\n",
    "\n",
    "OR Operator Truth Table:\n",
    "\n",
    "Operand 1\tOperand 2\tResult\n",
    "\n",
    "False\tFalse\tFalse\n",
    "\n",
    "False\tTrue\tTrue\n",
    "\n",
    "True\tFalse\tTrue\n",
    "\n",
    "True\tTrue\tTrue\n",
    "\n",
    "NOT Operator Truth Table:\n",
    "\n",
    "Operand\tResult\n",
    "\n",
    "False\tTrue\n",
    "\n",
    "True\tFalse\n",
    "\n",
    "These truth tables illustrate how each Boolean operator evaluates based on all possible combinations of Boolean values for the operands."
   ]
  },
  {
   "cell_type": "markdown",
   "id": "1d6d9ce0",
   "metadata": {},
   "source": [
    "# 4. What are the values of the following expressions?"
   ]
  },
  {
   "cell_type": "markdown",
   "id": "d823f6d8",
   "metadata": {},
   "source": [
    "(5 > 4) and (3 == 5) ==>\n",
    "False\n",
    "\n",
    "not (5 > 4)==>\n",
    "False\n",
    "\n",
    "(5 > 4) or (3 == 5)==>\n",
    "True\n",
    "\n",
    "not ((5 > 4) or (3 == 5))==>\n",
    "False\n",
    "\n",
    "(True and True) and (True == False)==>\n",
    "False\n",
    "\n",
    "(not False) or (not True)==>\n",
    "True"
   ]
  },
  {
   "cell_type": "markdown",
   "id": "03c0ca12",
   "metadata": {},
   "source": [
    "# 5. What are the six comparison operators?"
   ]
  },
  {
   "cell_type": "markdown",
   "id": "0217e7b3",
   "metadata": {},
   "source": [
    "Comparison operators are used to compare values and determine the relationship between them. There are six primary comparison operators:\n",
    "\n",
    "Equal To:\n",
    "\n",
    "Symbol: ==\n",
    "\n",
    "Purpose: Checks if two values are equal.\n",
    "\n",
    "Example: 5 == 5 evaluates to True.\n",
    "\n",
    "Not Equal To:\n",
    "\n",
    "Symbol: !=\n",
    "\n",
    "Purpose: Checks if two values are not equal.\n",
    "\n",
    "Example: 5 != 7 evaluates to True.\n",
    "\n",
    "Greater Than:\n",
    "\n",
    "Symbol: >\n",
    "\n",
    "Purpose: Checks if the left value is greater than the right value.\n",
    "\n",
    "Example: 8 > 5 evaluates to True.\n",
    "\n",
    "Less Than:\n",
    "\n",
    "Symbol: <\n",
    "\n",
    "Purpose: Checks if the left value is less than the right value.\n",
    "\n",
    "Example: 3 < 6 evaluates to True.\n",
    "\n",
    "Greater Than or Equal To:\n",
    "\n",
    "Symbol: >=\n",
    "\n",
    "Purpose: Checks if the left value is greater than or equal to the right value.\n",
    "\n",
    "Example: 5 >= 5 evaluates to True.\n",
    "\n",
    "Less Than or Equal To:\n",
    "\n",
    "Symbol: <=\n",
    "\n",
    "Purpose: Checks if the left value is less than or equal to the right value.\n",
    "\n",
    "Example: 4 <= 7 evaluates to True.\n",
    "\n",
    "These comparison operators are commonly used in programming to create conditions and comparisons within logical expressions."
   ]
  },
  {
   "cell_type": "markdown",
   "id": "2d43fc4f",
   "metadata": {},
   "source": [
    "# 6. How do you tell the difference between the equal to and assignment operators?Describe a condition and when you would use one."
   ]
  },
  {
   "cell_type": "markdown",
   "id": "12a86923",
   "metadata": {},
   "source": [
    "The equal to operator (==) and the assignment operator (=) are two distinct operators used in programming, and they serve different purposes. It's important to understand their differences to avoid confusion.\n",
    "\n",
    "Equal To Operator (==):\n",
    "\n",
    "The == operator is a comparison operator.\n",
    "\n",
    "It is used to check whether two values are equal.\n",
    "\n",
    "It returns a Boolean value (True or False) indicating the result of the comparison.\n",
    "\n",
    "Example: x == y checks if the values of variables x and y are equal.\n",
    "\n",
    "Assignment Operator (=):\n",
    "\n",
    "The = operator is an assignment operator.\n",
    "\n",
    "It is used to assign a value to a variable.\n",
    "\n",
    "It assigns the value on the right side of the operator to the variable on the left side.\n",
    "Example: x = 5 assigns the value 5 to the variable x.\n",
    "\n",
    "Here's a condition to illustrate the difference between the two operators and when you would use them:\n",
    "\n",
    "Suppose we have two variables, a and b, and you want to check if they have the same value. You would use the equal to operator (==) to perform the comparison:\n",
    "\n",
    "a = 10\n",
    "b = 10\n",
    "\n",
    "if a == b:\n",
    "\n",
    "----print(\"a and b have the same value.\")\n",
    "    \n",
    "else:\n",
    "\n",
    "----print(\"a and b have different values.\")\n",
    "\n",
    "In this example, the equal to operator checks if the values of a and b are equal, and the code prints \"a and b have the same value.\"\n",
    "\n",
    "On the other hand, if we want to assign a value to a variable, we would use the assignment operator (=):\n",
    "\n",
    "x = 7\n",
    "\n",
    "In this case, the value 7 is assigned to the variable x.\n",
    "\n",
    "In summary, the equal to operator is used to compare values, while the assignment operator is used to assign values to variables."
   ]
  },
  {
   "cell_type": "markdown",
   "id": "13807e6e",
   "metadata": {},
   "source": [
    "# 7. Identify the three blocks in this code:"
   ]
  },
  {
   "cell_type": "markdown",
   "id": "ce48db55",
   "metadata": {},
   "source": [
    "spam = 0\n",
    "\n",
    "if spam == 10:\n",
    "\n",
    "print('eggs')\n",
    "\n",
    "if spam > 5:\n",
    "\n",
    "print('bacon')\n",
    "\n",
    "else:\n",
    "\n",
    "print('ham')\n",
    "\n",
    "print('spam')\n",
    "\n",
    "print('spam')"
   ]
  },
  {
   "cell_type": "code",
   "execution_count": 3,
   "id": "53fe7796",
   "metadata": {
    "collapsed": true
   },
   "outputs": [
    {
     "name": "stdout",
     "output_type": "stream",
     "text": [
      "ham\n",
      "spam\n",
      "spam\n"
     ]
    }
   ],
   "source": [
    "#ANS:\n",
    "spam = 0\n",
    "if spam == 10:\n",
    "   print('eggs')         #I block\n",
    "if spam > 5:\n",
    "    print('bacon')       #II block\n",
    "else:\n",
    "    print('ham')\n",
    "    print('spam')\n",
    "    print('spam')        #III block"
   ]
  },
  {
   "cell_type": "markdown",
   "id": "9396ee1d",
   "metadata": {},
   "source": [
    "# 8. Write code that prints Hello if 1 is stored in spam, prints Howdy if 2 is stored in spam, and prints Greetings! if anything else is stored in spam."
   ]
  },
  {
   "cell_type": "code",
   "execution_count": 7,
   "id": "99688739",
   "metadata": {},
   "outputs": [
    {
     "name": "stdout",
     "output_type": "stream",
     "text": [
      "Enter a value for spam: 1\n",
      "Hello\n"
     ]
    }
   ],
   "source": [
    "spam = int(input(\"Enter a value for spam: \"))  # Taking input from the user\n",
    "\n",
    "if spam == 1:\n",
    "    print(\"Hello\")\n",
    "elif spam == 2:\n",
    "    print(\"Howdy\")\n",
    "else:\n",
    "    print(\"Greetings!\")"
   ]
  },
  {
   "cell_type": "markdown",
   "id": "537cdcab",
   "metadata": {},
   "source": [
    "# 9.If your programme is stuck in an endless loop, what keys you’ll press?"
   ]
  },
  {
   "cell_type": "markdown",
   "id": "ad9df4b7",
   "metadata": {},
   "source": [
    "If programmme is stuck in an endless loop, we can typically stop its execution using the keyboard shortcut Ctrl + C (Control + C). Here's how we can do it:\n",
    "\n",
    "Ctrl + C (Control + C):\n",
    "\n",
    "This keyboard shortcut sends an interrupt signal to the running program, causing it to terminate.\n",
    "we should keep in mind that using Ctrl + C to forcefully stop a program should be used carefully, as it can abruptly halt our program's execution and might not allow for proper cleanup."
   ]
  },
  {
   "cell_type": "markdown",
   "id": "9655e2b0",
   "metadata": {},
   "source": [
    "# 10. How can you tell the difference between break and continue?"
   ]
  },
  {
   "cell_type": "markdown",
   "id": "480df0ec",
   "metadata": {},
   "source": [
    "break and continue are two keywords used in loops (such as for and while loops) in programming languages. They serve different purposes and have distinct effects on the flow of the loop.\n",
    "\n",
    "Break:\n",
    "\n",
    "The break statement is used to exit or terminate the current loop prematurely.\n",
    "When the break statement is encountered inside a loop, the loop immediately terminates, and the program execution continues with the code after the loop.\n",
    "It's often used when a certain condition is met, and you want to exit the loop regardless of whether the loop has finished its normal iteration.\n",
    "\n",
    "Continue:\n",
    "\n",
    "The continue statement is used to skip the rest of the current iteration of the loop and move on to the next iteration.\n",
    "When the continue statement is encountered, the remaining code inside the loop for the current iteration is skipped, and the loop proceeds with the next iteration.\n",
    "It's typically used when you want to skip some specific iterations based on a condition but continue the loop.\n",
    "\n",
    "In summary, break is used to exit the loop entirely, while continue is used to skip the rest of the current iteration and proceed to the next iteration. They both provide control over the flow of your loops in different ways."
   ]
  },
  {
   "cell_type": "markdown",
   "id": "cb9a3f36",
   "metadata": {},
   "source": [
    "# 11. In a for loop, what is the difference between range(10), range(0, 10), and range(0, 10, 1)?"
   ]
  },
  {
   "cell_type": "markdown",
   "id": "1cb77f8c",
   "metadata": {},
   "source": [
    "In a for loop in Python, the range() function is commonly used to generate a sequence of numbers that the loop iterates over. All three forms you mentioned, range(10), range(0, 10), and range(0, 10, 1), produce similar results, but there are some differences in how they are specified:\n",
    "\n",
    "range(10):\n",
    "\n",
    "This form of range() generates numbers starting from 0 (inclusive) up to 10 (exclusive), with a step of 1.\n",
    "\n",
    "The starting value is omitted, so it starts from 0 by default.\n",
    "\n",
    "The step value is also omitted, so it defaults to 1.\n",
    "\n",
    "This form is equivalent to range(0, 10, 1).\n",
    "\n",
    "range(0, 10):\n",
    "\n",
    "This form of range() generates numbers starting from 0 (inclusive) up to 10 (exclusive), with a step of 1.\n",
    "\n",
    "The starting value is explicitly specified as 0.\n",
    "\n",
    "The step value is omitted, so it defaults to 1.\n",
    "\n",
    "This form is equivalent to range(10) and range(0, 10, 1).\n",
    "\n",
    "range(0, 10, 1):\n",
    "\n",
    "This form of range() generates numbers starting from 0 (inclusive) up to 10 (exclusive), with a step of 1.\n",
    "\n",
    "Both the starting value (0) and the step value (1) are explicitly specified\n",
    "\n",
    "All three loops will produce the same output, printing the numbers from 0 to 9."
   ]
  },
  {
   "cell_type": "markdown",
   "id": "a86af80e",
   "metadata": {},
   "source": [
    "# 12. Write a short program that prints the numbers 1 to 10 using a for loop. Then write an equivalent program that prints the numbers 1 to 10 using a while loop."
   ]
  },
  {
   "cell_type": "code",
   "execution_count": null,
   "id": "1e6e1b06",
   "metadata": {},
   "outputs": [],
   "source": [
    "#using for loop\n",
    "for i in range(1,11,1):\n",
    "    print(i)\n",
    "    \n",
    "#using while loop\n",
    "i = 1\n",
    "while i <= 10:\n",
    "    print(i)\n",
    "    i += 1"
   ]
  },
  {
   "cell_type": "markdown",
   "id": "0740538a",
   "metadata": {},
   "source": [
    "# 13. If you had a function named bacon() inside a module named spam, how would you call it after importing spam?"
   ]
  },
  {
   "cell_type": "markdown",
   "id": "2eebd705",
   "metadata": {},
   "source": [
    "#my_program:\n",
    "\n",
    "main.py\n",
    "\n",
    "spam.py\n",
    "\n",
    "import spam  # Import the spam module\n",
    "\n",
    "#Call the bacon() function from the spam module\n",
    "spam.bacon()\n",
    "\n",
    "\n",
    "#spam.py\n",
    "\n",
    "def bacon():\n",
    "\n",
    "    print(\"I am bacon!\")"
   ]
  }
 ],
 "metadata": {
  "kernelspec": {
   "display_name": "Python 3 (ipykernel)",
   "language": "python",
   "name": "python3"
  },
  "language_info": {
   "codemirror_mode": {
    "name": "ipython",
    "version": 3
   },
   "file_extension": ".py",
   "mimetype": "text/x-python",
   "name": "python",
   "nbconvert_exporter": "python",
   "pygments_lexer": "ipython3",
   "version": "3.9.7"
  }
 },
 "nbformat": 4,
 "nbformat_minor": 5
}
